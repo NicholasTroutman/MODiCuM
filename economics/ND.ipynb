{
 "cells": [
  {
   "cell_type": "code",
   "execution_count": 1,
   "metadata": {},
   "outputs": [],
   "source": [
    "from __future__ import print_function\n",
    "import ipywidgets as widgets \n",
    "import matplotlib.pyplot as plt\n",
    "import numpy as np"
   ]
  },
  {
   "cell_type": "markdown",
   "metadata": {},
   "source": [
    "# Exclusively Gaming the system\n",
    "\n",
    "**Assumptions**\n",
    "\n",
    "* JC gets no benefit from the job\n",
    "* The job has probability p1 of resulting in a1 and 1-p1 of resulting in a2\n",
    "* Since JC knows both results it verifies every result at essentially 0 cost, pays RP for a1 and submits a2 for mediation. \n",
    "* As worst case scenario for JC that RP never fails, RP is only blamed by mediator messing up."
   ]
  },
  {
   "cell_type": "code",
   "execution_count": 2,
   "metadata": {},
   "outputs": [],
   "source": [
    "# Mediator Parameters\n",
    "wn = widgets.IntSlider(min=0,max=10,step=1,value=4)\n",
    "wPR = widgets.FloatSlider(min=0,max=300,step=.5,value=1) #Penalty Rate\n",
    "wNDPR = widgets.FloatSlider(min=0,max=300,step=.5,value=1)#Non-deterministic Penalty rate\n",
    "\n",
    "def MNDU():\n",
    "    available = JCmediatorPrice + RPmediatorPrice\n",
    "    mediationFee = p*(p2+(1-q))*(p1**M_n)*(RPdeposit-price)\n",
    "    ND_Fee = p*(p2+(1-q))*(1-(p1**M_n))*(NDdeposit-price) \n",
    "    return available + mediationFee + ND_Fee\n",
    "\n",
    "\n"
   ]
  },
  {
   "cell_type": "code",
   "execution_count": 3,
   "metadata": {},
   "outputs": [],
   "source": [
    "#Solver\n",
    "def SNDU(): #solver nondeterminisitc utility\n",
    "    totMatchingFee = RPMatchingFee + JCMatchingFee\n",
    "    return totmatchingFee"
   ]
  },
  {
   "cell_type": "code",
   "execution_count": 4,
   "metadata": {},
   "outputs": [],
   "source": [
    "# JC parameters\n",
    "wPrice = widgets.IntSlider(min=0,max=10000,step=1,value=1)\n",
    "JCgasPrice = 0\n",
    "wp = widgets.FloatSlider(min=0,max=1,step=.1,value=1) # how often JC verifies\n",
    "wcj= widgets.FloatSlider(min=0,max=1,step=.1,value=0) # cost for JC to verify\n",
    "wBenefit=widgets.IntSlider(min=0,max=10000,step=1,value=1)\n",
    "matchPrice = 1\n",
    "mediatorPrice = 1\n",
    "\n",
    "def JCNDU(M_n,M_PR,M_NDPR, p1,price,p=1,cj=0, q=1):\n",
    "    p2 = 1-p1\n",
    "    deposit = price * M_PR * M_n\n",
    "    NDdeposit = price * M_NDPR\n",
    "    damages = price + JCgasPrice\n",
    "    \n",
    "    verifyCost = -p*cj # chance to check job (p) and recompute (cj)\n",
    "    A1payout = -q*p1*price # RP correctly (q) returns answer 1 (p1) and pay up to max_price (-price). LATER ADD BENEFIT\n",
    "    compensation = p*(p2+(1-q))*(p1**M_n)*damages\n",
    "    fine = - p*(p2+(1-q))*(1-(p1**M_n))*NDdeposit #RP returns answer 2 correctly or responds incorrectly (p2+(1-q)) and send to mediator who finds out nonDeterminism (1-p1^n), pay fine and reward (f2+r)\n",
    "    \n",
    "    JCnonDet = verifyCost + A1payout + compensation + fine\n",
    "    return JCnonDet"
   ]
  },
  {
   "cell_type": "code",
   "execution_count": 5,
   "metadata": {},
   "outputs": [],
   "source": [
    "# RP parameters\n",
    "RPgasPrice = 0\n",
    "wq = widgets.FloatSlider(min=0,max=1,step=.1,value=1) # probability that RP runs correctly\n",
    "wroi = widgets.FloatSlider(min=0,max=1,step=.1,value=.5) # what percent of reward is profit\n",
    "winsurance = widgets.FloatSlider(min=0,max=1,step=.1,value=0) # % of deposit that can be recovered because execution is so cheap.\n",
    "matchPrice = 1\n",
    "mediatorPrice = 1\n",
    "\n",
    "def RPNDU(M_n,M_PR,M_NDPR, p1,price,p=1, q=1, roi=0, Insurance=0):\n",
    "    p2 = 1-p1\n",
    "    deposit = price * M_PR * M_n\n",
    "    damages = price + RPgasPrice\n",
    "    execCost = - price*(1-roi) + deposit*Insurance\n",
    "\n",
    "    noVerifypayout = (1-p)*price #compute answer 1 (p1) correctly (q) receive reward (price)\n",
    "    \n",
    "    P1payout = p*p1*q*price #compute answer 1 (p1) correctly (q) receive reward (price)\n",
    "    \n",
    "    P2payout = p*p2*q*(1-p1**M_n)*damages #compute answer 2 (p2) correctly (q) get sent to mediation, who finds nondeterminism (1-p1^n) and recieve reward (r) and nonDet bonus (f2-f)*k kickback=k\n",
    "\n",
    "    notP1cost = - p*(p2+1-q)*(p1**M_n)*deposit # compute answer 2 correctly or compute incorrectly (p2+1-q)  get sent to mediation, who doesn't find nondeterminsm (p1^n) and get fined (f)\n",
    "    \n",
    "    failComp =   p*(1-q)*(1-p1**M_n)*damages# compute incorrectly (1-q) get sent to mediation, finds nondeterminism (1-p1^n) and bad RP? Pay RP for ND? Not sure its bad it could be totally random.\n",
    "    \n",
    "    RCnonDet = execCost + noVerifypayout + P1payout + P2payout + notP1cost + failComp\n",
    "    return RCnonDet\n",
    "\n",
    "#Resource Provider nondeterministic utility strategy D (decieving?), basically cheating\n",
    "def RPNDUD(M_n,M_PR,M_NDPR, Cj, p1,price,p=1, q=1, roi=0, Insurance=0):\n",
    "    p2 = 1-p1\n",
    "    deposit = price * M_PR * M_n\n",
    "    damages = price + RPgasPrice\n",
    "    #execCost = - price*(1-roi) + deposit*Insurance\n",
    "\n",
    "    #Cj is cost of execution for fraudulant job, picking a random number or \"close\" value\n",
    "    execCost = - Cj + deposit*Insurance\n",
    "    \n",
    "    noVerifypayout = (1-p)*price #compute answer 1 (p1) correctly (q) receive reward (price)\n",
    "    \n",
    "    P1payout = p*p1*q*price #compute answer 1 (p1) correctly (q) receive reward (price)\n",
    "    \n",
    "    P2payout = p*p2*q*(1-p1**M_n)*damages #compute answer 2 (p2) correctly (q) get sent to mediation, who finds nondeterminism (1-p1^n) and recieve reward (r) and nonDet bonus (f2-f)*k kickback=k\n",
    "\n",
    "    notP1cost = - p*(p2+1-q)*(p1**M_n)*deposit # compute answer 2 correctly or compute incorrectly (p2+1-q)  get sent to mediation, who doesn't find nondeterminsm (p1^n) and get fined (f)\n",
    "    \n",
    "    failComp =   p*(1-q)*(1-p1**M_n)*damages# compute incorrectly (1-q) get sent to mediation, finds nondeterminism (1-p1^n) and bad RP? Pay RP for ND? Not sure its bad it could be totally random.\n",
    "    \n",
    "    RCnonDet = execCost + noVerifypayout + P1payout + P2payout + notP1cost + failComp\n",
    "    return RCnonDet"
   ]
  },
  {
   "cell_type": "code",
   "execution_count": 6,
   "metadata": {},
   "outputs": [],
   "source": [
    "def plot(M_n,M_PR,M_NDPR,price,p=1,cj=0, q=1,roi=1,Insurance=0):   \n",
    "    plt.figure(2,figsize=(10,5))\n",
    "    \n",
    "    plt.subplot(1,1,1)\n",
    "    plt.grid(visible=True)\n",
    "    x,step = np.linspace(0,1,51,retstep=True)\n",
    "    print(\"step size: %s\" %step)\n",
    "    yJND = list(map(lambda p1: JCNDU(M_n,M_PR,M_NDPR, p1,price,p=p,cj=cj, q=q),x))\n",
    "    yRND = list(map(lambda p1: RPNDU(M_n,M_PR,M_NDPR, p1,price,p=p, q=q,roi=roi,Insurance=Insurance),x))\n",
    "    plt.plot(x,yJND, label=\"JUND\")\n",
    "    plt.plot(x,yRND, label=\"RUND\")\n",
    "    plt.xlabel('P(a1)')\n",
    "    plt.ylabel('Util') \n",
    "    \n",
    "    plt.legend()\n",
    "    plt.show\n",
    "    \n",
    "    deposit = price * M_PR * M_n\n",
    "    execCost = price*(1-roi)\n",
    "    print(\"execCost: %s\" %execCost)\n",
    "    requstedPrice = execCost + deposit*Insurance   \n",
    "    print(\"requstedPrice: %s\" %requstedPrice)\n",
    "    print(\"price > requstedPrice, Matchable? : %s\" %(price>requstedPrice))\n",
    "    \n",
    "    print(\"max ND JC utility: %s\" %max(yJND))\n",
    "    print(\"P(a1) for JCmax/RPmin util: %s\" %x[yJND.index(max(yJND))])\n",
    "    print(\"min RP utility: %s\" %min(yRND))\n",
    "    \n",
    "    print(\"RP is losing: %s\" %(min(yRND)<0))"
   ]
  },
  {
   "cell_type": "code",
   "execution_count": 7,
   "metadata": {},
   "outputs": [
    {
     "data": {
      "application/vnd.jupyter.widget-view+json": {
       "model_id": "0945bf05854d4419a9cf41f070f78101",
       "version_major": 2,
       "version_minor": 0
      },
      "text/plain": [
       "interactive(children=(IntSlider(value=4, description='M_n', max=10), FloatSlider(value=1.0, description='M_PR'…"
      ]
     },
     "metadata": {},
     "output_type": "display_data"
    }
   ],
   "source": [
    "interactive_plot = widgets.interactive(plot, M_n=wn,M_PR=wPR,M_NDPR=wNDPR,price=wPrice,p=wp,cj=wcj, q=wq,roi=wroi,Insurance=winsurance);\n",
    "output = interactive_plot.children[-1]\n",
    "output.layout.height = '600px'\n",
    "interactive_plot"
   ]
  },
  {
   "cell_type": "markdown",
   "metadata": {},
   "source": [
    "# Benefit Analysis\n",
    "\n",
    "This section analyzes when the JC is sending real jobs that provide it value when they are successfully completed. The JC is attempting to increase its utility by adding a non-deterministic piece to the jobs in an effort to have some jobs completed for free by accusing the RP of failing to execute them correctly. This could be done by changing the input so that some parts of the code are normally dorment and only activated when a certain data input is provided."
   ]
  },
  {
   "cell_type": "markdown",
   "metadata": {},
   "source": [
    "### Protocol Following model\n",
    "If the JC follows the protocol its utility is the benefit, or value, it receives from the Job execution minus the amount it pays to the RP. This is assuming that the RP is playing by the rules of the game, otherwise the JC could have better utility since **price** will be refunded and **benefit** will still be recieved since the mediator will return the result. \n",
    "\n",
    "This model is further simplified by the assumption that a Job can be checked for approximately free, and that the JC can check the result of every job. This is reasonable since such jobs exist and we are interested in identifying the worst case scenario we need to protect against. "
   ]
  },
  {
   "cell_type": "code",
   "execution_count": 8,
   "metadata": {},
   "outputs": [],
   "source": [
    "def protocolU(benefit, price):\n",
    "    return benefit - price"
   ]
  },
  {
   "cell_type": "markdown",
   "metadata": {},
   "source": [
    "### Non-Deterministic Model\n",
    "The key element of this model is the amount of utility the JC can get for **free** from the system. \n",
    "The free utility is the probability that the RP got result 2 multiplied by the probability that the mediator got result 1 $n$ times multiplied by the job benefit, minus the probability that the RP got result 2 multiplied by the probability that the mediator did not get result 1 for any of $n$ executions multiplied by the deposit, whose value is determined by the price set by the JC multiplied by the non-deterministic penalty rate set by the Mediator. "
   ]
  },
  {
   "cell_type": "code",
   "execution_count": 9,
   "metadata": {},
   "outputs": [],
   "source": [
    "def NDU(M_n,M_NDPR, p1,price,benefit):\n",
    "    p2 = 1-p1\n",
    "    NDdeposit = price * M_NDPR\n",
    "    paid = p1*(benefit-price)\n",
    "    free = p2*((p1**M_n)*benefit - (1-p1**M_n)*NDdeposit)\n",
    "    total = paid + free\n",
    "    return total\n",
    "    "
   ]
  },
  {
   "cell_type": "markdown",
   "metadata": {},
   "source": [
    "### Evaluation"
   ]
  },
  {
   "cell_type": "code",
   "execution_count": 10,
   "metadata": {},
   "outputs": [],
   "source": [
    "def plot2(M_n,M_NDPR,  price,benefit):\n",
    "    x,step = np.linspace(0,1,51,retstep=True)\n",
    "    yPU = list(map(lambda p1: protocolU(benefit,price),x))\n",
    "    yNDU = list(map(lambda p1: NDU(M_n,M_NDPR, p1,price,benefit),x))\n",
    "    \n",
    "    \n",
    "    plt.figure(3,figsize=(10,5))    \n",
    "    plt.subplot(1,1,1)\n",
    "    plt.grid(visible=True)\n",
    "    plt.plot(x,yPU, label=\"PU\")\n",
    "    plt.plot(x,yNDU, label=\"NDU\")\n",
    "    plt.xlabel('P(a1)')\n",
    "    plt.ylabel('Util') \n",
    "    \n",
    "    plt.legend()\n",
    "    plt.show\n",
    "    \n",
    "    print(\"Protocol util: %s\" %yPU[0])\n",
    "    print(\"max ND util: %s\" %max(yNDU))\n",
    "    print(\"ND improvement over Protocol: %s\" %(max(yNDU)-yPU[0]))    \n",
    "    print(\"%% improvement : %s %%\" %(100*abs((max(yNDU)-yPU[0])/yPU[0])))\n",
    "    print(\"optimal P(p1): %s\" %x[yNDU.index(max(yNDU))])\n",
    "    \n",
    "    "
   ]
  },
  {
   "cell_type": "code",
   "execution_count": 11,
   "metadata": {},
   "outputs": [
    {
     "data": {
      "application/vnd.jupyter.widget-view+json": {
       "model_id": "7de927d091a0478b8524616507ad3e39",
       "version_major": 2,
       "version_minor": 0
      },
      "text/plain": [
       "interactive(children=(IntSlider(value=4, description='M_n', max=10), FloatSlider(value=1.0, description='M_NDP…"
      ]
     },
     "metadata": {},
     "output_type": "display_data"
    }
   ],
   "source": [
    "interactive_plot2 = widgets.interactive(plot2, M_n=wn,M_NDPR=wNDPR, price=wPrice,benefit=wBenefit);\n",
    "output = interactive_plot2.children[-1]\n",
    "output.layout.height = '600px'\n",
    "interactive_plot2\n",
    "\n",
    "#M_n = 4\n",
    "#NDPR = 12"
   ]
  },
  {
   "cell_type": "markdown",
   "metadata": {},
   "source": [
    "### Bounding the problem\n",
    "$free = (1-P)P^nb - (1-P)(1-P^n)Rc$\n",
    "\n",
    "**Derivative**\n",
    "\n",
    "$\\frac{d}{dP}(free) = \\frac{d}{dP} (1-P)P^nb - (1-P)(1-P^n)Rc$\n",
    "\n",
    "$0 = \\frac{d}{dP} (P^nb - P^{n+1} - Rc + P^nRc + PRc - P^{n+1}Rc$)\n",
    "\n",
    "$0 = nP^{n-1}b - (n+1)P^{n}b - 0 + nP^{n-1}Rc + Rc - (n+1)P^{n}Rc$\n",
    "\n",
    "**Collect Terms**\n",
    "\n",
    "$ nP^{n-1}b + nP^{n-1}Rc + Rc =  (n+1)P^{n}b + (n+1)P^{n}Rc$\n",
    "\n",
    "$ nP^{n-1}(b+Rc) + Rc =  (n+1)P^{n}(b+Rc)$\n",
    "\n",
    "$ nP^{n-1} + \\frac{Rc}{b+Rc} =  (n+1)P^{n}$\n",
    "\n",
    "\n",
    "$\\frac{Rc}{b+Rc} + nP^{n-1} - (n+1)P^n = 0 $\n",
    "\n",
    "**Let penalty rate R=0**\n",
    "\n",
    "benefit and cost become irrelevant and we are left with:\n",
    "\n",
    "$nP^{n-1}  = (n+1)P^n $\n",
    "\n",
    "**Simplify**\n",
    "\n",
    "$\\frac{n}{n+1} = P$\n",
    "\n",
    "So the maximum the JC can make with no penalty rate will be when $P = \\frac{n}{n+1}$\n",
    "\n",
    "$P$ is the liklihood of getting answer 1 and $n$ is the number of times the mediator verifies, so we can force the JC to cheat less and limit its additional utility. \n",
    "\n",
    "For example if $n=4$ then $P=.8$, so for optimal gains JC will make it so that a1 appears 80% of the time, anything else would give it less reward, so if we assume the worst case and handle it, anything less severe will be handled as well. \n",
    "\n",
    "**If R is not 0**\n",
    "\n",
    "any change to $b$ or $c$ will never make lower probability of a1 more optimal. \n",
    "\n",
    "**For $b<c$ and R=1**\n",
    "\n",
    "The normal protocol loses, but the ND protocol loses somewhat less until $b=.9646c$ approximately, as which point ND can win slightly. \n",
    "\n",
    "It can win .53 utility units when $b=97$ and $c=100$. If these numbers are scaled by factors of 10 the utility decreases. \n",
    "\n",
    "**For $b=c$ and R=1**\n",
    "\n",
    "Optimal is when probability of a1 is 92%. \n",
    "Normal protocal loses, and ND protocol wins 3.46% of benfit/price as utility. \n",
    "\n",
    "**For $b>c$ and R=1**\n",
    "\n",
    "As $b$ grows the advantage over the protocol decreases compared to $b=c$\n",
    "\n",
    "When $b=2.75c$ the added benefit is less than 1%. \n",
    "\n",
    "**Things get worse for JC if R increases.**\n",
    "The worst case for the system is $b=c$ as the JC can get the most advantage. This can be mitigated by assuming JC is cheating and taking a 3.46% tax on the price it includes, or increasing R to, apparently, 12, after which point ND can't win and is only better than protocol if $b=.88c$ or less (meaning its losing badly since it needed 96% to win in the first place).\n",
    "\n",
    "\n"
   ]
  }
 ],
 "metadata": {
  "kernelspec": {
   "display_name": "Python 3",
   "language": "python",
   "name": "python3"
  },
  "language_info": {
   "codemirror_mode": {
    "name": "ipython",
    "version": 3
   },
   "file_extension": ".py",
   "mimetype": "text/x-python",
   "name": "python",
   "nbconvert_exporter": "python",
   "pygments_lexer": "ipython3",
   "version": "3.6.6"
  }
 },
 "nbformat": 4,
 "nbformat_minor": 2
}
