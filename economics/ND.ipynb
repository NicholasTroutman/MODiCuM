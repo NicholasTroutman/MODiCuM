{
 "cells": [
  {
   "cell_type": "code",
   "execution_count": 1,
   "metadata": {},
   "outputs": [],
   "source": [
    "from __future__ import print_function\n",
    "import ipywidgets as widgets \n",
    "import matplotlib.pyplot as plt\n",
    "import numpy as np"
   ]
  },
  {
   "cell_type": "markdown",
   "metadata": {},
   "source": [
    "# Non-Determinisitic Evaluation"
   ]
  },
  {
   "cell_type": "markdown",
   "metadata": {},
   "source": [
    "### Mediator Parameters\n",
    "\n",
    "$n$ = the number of times a jobs is executed for verification.\n",
    "\n",
    "$PR$ = the penalty rate, used to determine the minimum deposit of both Job Creators and Resource Providers\n",
    "\n",
    "$NDPR$ = the non-deterministic penalty rate, used to determine the Job Creators non-deterministic deposit\n",
    "\n",
    "$available$ = The fee the Mediator requires to be available for a mediation. A mediator can be used if $available < JCmediatorPrice + RPmediatorPrice$\n",
    "\n",
    "$mediationFee$ = The amount Mediator receives for mediating a given dispute. \n",
    "\n",
    "$ND\\_Fee$ = The amount Mediator receives for mediating a given dispute and finding JC guilty of non-determinism. "
   ]
  },
  {
   "cell_type": "markdown",
   "metadata": {},
   "source": [
    "### Honest Mediator Model"
   ]
  },
  {
   "cell_type": "code",
   "execution_count": 2,
   "metadata": {},
   "outputs": [],
   "source": [
    "# Mediator Parameters\n",
    "wn = widgets.IntSlider(min=0,max=10,step=1,value=4, continuous_update=False)\n",
    "wPR = widgets.FloatSlider(min=0,max=300,step=.5,value=1, description='PR', continuous_update=False) #Penalty Rate\n",
    "wNDPR = widgets.FloatSlider(min=0,max=300,step=.5,value=1, description='NDPR',continuous_update=False)#Non-deterministic Penalty rate\n",
    "\n",
    "def MNDU(JCmediatorPrice, RPmediatorPrice):\n",
    "    available = JCmediatorPrice + RPmediatorPrice\n",
    "    mediationFee = p*(p2+(1-q))*(p1**M_n)*(JCdeposit-price)\n",
    "    ND_Fee = p*(p2+(1-q))*(1-(p1**M_n))*(NDdeposit-price) \n",
    "    return available + mediationFee + ND_Fee\n",
    "\n",
    "\n"
   ]
  },
  {
   "cell_type": "markdown",
   "metadata": {},
   "source": [
    "### Solver Parameters\n",
    "\n",
    "$matchFee$ = The amount a solver receives for finding a given match. "
   ]
  },
  {
   "cell_type": "markdown",
   "metadata": {},
   "source": [
    "### Honest Solver Model"
   ]
  },
  {
   "cell_type": "code",
   "execution_count": 3,
   "metadata": {},
   "outputs": [],
   "source": [
    "#Solver\n",
    "def SNDU(): #solver nondeterminisitc utility\n",
    "    matchFee = RPMatchingFee + JCMatchingFee\n",
    "    return matchFee"
   ]
  },
  {
   "cell_type": "markdown",
   "metadata": {},
   "source": [
    "# JC False Job Model\n",
    "\n",
    "This section analyzes when the JC is sending fake jobs that provide no value when they are successfully completed. The JC is attempting to gain utility though tricking the mediator into believing a RP did a job incorrectly and giving it compensation. The JC can trick the mediator by providing a job with a non-deterministic output. The output is in one of two answer classes, $a1$ or $a2$ with $P(a1)>>P(a2)$. If RP responds with $a1$ the JC will pay RP. If RP responds with $a2$ JC will request mediation, expecting the mediator to find the answer to be $a1$ and determine that the $RP$ must have cheated. \n",
    "We only need to considert two answer classes because when the Mediator is performing verification it assigns fault to the RP only if it finds there to be one answer which does not match the RP answer, if it finds two answers that differ from one another, regardless of if they match the RP answer, it faults the JC. This means that JC wants to maximize the chance that the Mediator will get the same answer reapeatedly which is not benefited by having additional answer classes.  \n",
    "\n",
    "We need to make sure that the platform compensation model does not make this strategy feasible. \n",
    "\n",
    "**Assumptions**\n",
    "\n",
    "* JC gets no benefit from the job\n",
    "* The job has probability p1 of resulting in a1 and 1-p1 of resulting in a2\n",
    "* Since JC knows both results it verifies every result at essentially 0 cost, pays RP for a1 and submits a2 for mediation. "
   ]
  },
  {
   "cell_type": "markdown",
   "metadata": {},
   "source": [
    "### Job Creator parameters\n",
    "\n",
    "$price = instructionCount*JO.rate + bandwidthUsage*JO.rate$\n",
    "\n",
    "$p$ = probability the JC verifies result.\n",
    "\n",
    "$jcj$ = cost to JC to verify result.\n",
    "\n",
    "$Benefit$ = the value JC gets when a job is performed correctly.\n",
    "\n",
    "$matchPrice$ = the amount JC pays to Solver for finding a suitable RP. \n",
    "\n",
    "$mediatorPrice$ = The amount JC pays to mediator for being available. \n",
    "\n",
    "$p1$ = probability that job returns $a1$\n",
    "\n",
    "$p2$ = $1-p1$ = probability that job returs $a2$\n",
    "\n",
    "$deposit$ = the amount the Job Creator must post as a security deposit in order to get matched. \n",
    "\n"
   ]
  },
  {
   "cell_type": "code",
   "execution_count": 4,
   "metadata": {},
   "outputs": [],
   "source": [
    "# JC parameters\n",
    "wPrice = widgets.IntSlider(min=0,max=10000,step=1,value=1, continuous_update=False)\n",
    "JCgasPrice = 0\n",
    "wp = widgets.FloatSlider(min=0,max=1,step=.1,value=1, description='P(verify)', continuous_update=False) # how often JC verifies\n",
    "wjcj= widgets.FloatSlider(min=0,max=1,step=.1,value=0, description='jcj',continuous_update=False) # cost for JC to verify\n",
    "wBenefit=widgets.IntSlider(min=0,max=10000,step=1,value=1, continuous_update=False)\n",
    "matchPrice = 1\n",
    "mediatorPrice = 1\n",
    "\n",
    "def JCNDU(M_n,M_PR,M_NDPR, p1,price,p=1,jcj=0, q=1):\n",
    "    p2 = 1-p1\n",
    "    deposit = price * M_PR * M_n\n",
    "    NDdeposit = price * M_NDPR\n",
    "    \n",
    "    noVerifyCost = -(1-p)*price\n",
    "    \n",
    "    verifyCost   = -p*jcj # chance to check job (p) and recompute (cj)\n",
    "    A1payout     = -p*q*p1*price # RP correctly (q) returns answer 1 (p1) and pay up to max_price (-price).\n",
    "    compensation =  p*q*p2*(p1**M_n)*(price + JCgasPrice) # receives gas price because it had to spend some to request mediation.\n",
    "    NDfine       = -p*q*p2*(1-(p1**M_n))*NDdeposit #RP returns answer 2 correctly or responds incorrectly (p2+(1-q)) and send to mediator who finds out nonDeterminism (1-p1^n), pay fine and reward (f2+r)\n",
    "    \n",
    "    mediationCost= - p*(1-q)*JCgasPrice\n",
    "    RPfraudC     =  p*(1-q)*(p1**M_n)*(price + JCgasPrice) \n",
    "    RPfraudL     = -p*(1-q)*(1-p1**M_n)*NDdeposit# compute incorrectly (1-q) get sent to mediation, finds nondeterminism (1-p1^n) get compensation.\n",
    "    RPfraud1     =  RPfraudC + RPfraudL\n",
    "    \n",
    "    RPfraud2     = -p*(1-q)*price # JC doesn't want to risk getting caught, just pay RP. \n",
    "    \n",
    "    JCnonDet = verifyCost + A1payout + compensation + NDfine + max(RPfraud1,RPfraud2) + mediationCost\n",
    "    return JCnonDet"
   ]
  },
  {
   "cell_type": "markdown",
   "metadata": {},
   "source": [
    "This model captures an honest Job Creator when $p1=1$, other values for $p1$ introduce non-deterministic cheating.\n",
    "\n",
    "The Job Creators verification strategy is controlled by $p$, which is the probability of verifying a given result. \n",
    "\n",
    "The type of job, is captured by the $price$ and the $jcj$ terms. The $price$ capture the complexity of execution, $jcj$ captures the complexity of verification.\n",
    "\n",
    "A mixed strategy Resource Provider is accounted for through the $q$ parameter. If $q=0$ then the $RP$ is intentionally sending junk results back. \n",
    "\n",
    "While running as a non-deterministic Job Creator it must decide whether the pay the $RP$ for a junk request, or risk getting caught in mediation. Currently the choice is made in the `max(RPfraud1,RPfraud2)` term. If the Job Creator is running deterministic jobs if it verifies and finds a bad result it will request mediation."
   ]
  },
  {
   "cell_type": "markdown",
   "metadata": {},
   "source": [
    "## Resource Providier\n",
    "\n",
    "The Resource Provider only has one method to try to abuse the system. That is to return a result and hope that the Job Creator does not verify the job. If the Job Creator never verifies the Resource Provider will always cheat, and if it always verifies the Resource Provider will never cheat. However, the RP does not know how often the Job Creator will verify. "
   ]
  },
  {
   "cell_type": "markdown",
   "metadata": {},
   "source": [
    "### Resource Provider Model\n",
    "The most RP can be paid for executing a job is $price = instructionCount*JO.rate + bandwidthUsage*JO.rate$. \n",
    "\n",
    "Jobs are only worth executing if the operating costs are covered by the Resource providers fees, which are at most $price$ for a given job. \n",
    "\n",
    "The Resource Provider does not only want to cover operating costs however, it additionally wants to make a profit. \n",
    "\n",
    "$profit = price-cost$\n",
    "\n",
    "Since the price varies from job to job, the RP specifies a return on investment $roi$: \n",
    "\n",
    "$roi = \\frac{price-cost}{price}$\n",
    "\n",
    "For the model we need to estimate the cost of executing a job $cost$. We compute this with the given price and required roi. This is reasonable since the JC specifies the $price$ and $price$ is ralated to job complexity, and the execution cost will increase with complexity.\n",
    "\n",
    "$cost = price*(1-roi)$ \n",
    "\n",
    "The platform will only match a job to an RP if $price>requestedPrice$\n",
    "$requestedPrice$ covers the cost of execution. So in the analysis if $price<requestedPrice$ the point is infeasible. \n",
    "$requestedPrice$ is not used in the RP model, only computed. \n",
    "\n",
    "$requestedPrice = cost$\n",
    "\n",
    "In a situation where the Job Creator is sending non-deterministic jobs, a Resource provider will lose \n",
    "\n",
    "$p \\times p_2 \\times p_1^n\\times deposit$\n",
    "\n",
    "If the RP assumes $p=1$(JC always verifies), and that JC uses optimal $p_1$ given $n$ and $NDPR$ it can determine the maximum percent $I$ of its deposit that it will lose to the mediator being tricked. By adding $ I \\times deposit$ to its $requestedPrice$ it can mitigate the damage done by cheating Job Creators. $I$ is an insurance percent against cheating. This results in a new $requestedPrice$ :  \n",
    "\n",
    "$requestedPrice = price*(1-roi) + deposit \\times I $\n",
    "\n",
    "\n",
    "When the RP is matched at its' $requestedPrice$ the $cost$ will effectively be reduced by $deposit \\times I$ so the effective $cost$ used in the model is:\n",
    "\n",
    "$cost = price*(1-roi) - deposit \\times I $\n",
    "\n",
    "In the `plot` function $requestedPrice$ is compared against $price$ to check if the point is valid. \n"
   ]
  },
  {
   "cell_type": "markdown",
   "metadata": {},
   "source": [
    "#### Honest RP Model"
   ]
  },
  {
   "cell_type": "code",
   "execution_count": 5,
   "metadata": {},
   "outputs": [],
   "source": [
    "# RP parameters\n",
    "RPgasPrice = 0\n",
    "wq = widgets.FloatSlider(min=0,max=1,step=.1,value=1,description='P(run)', continuous_update=False) # probability that RP runs correctly\n",
    "wroi = widgets.FloatSlider(min=0,max=1,step=.01,value=.5,description='roi', continuous_update=False) # what percent of reward is profit\n",
    "winsurance = widgets.FloatSlider(min=0,max=1,step=.01,value=0 ,description='I',continuous_update=False) # % of deposit that can be recovered because execution is so cheap.\n",
    "wrcj= widgets.FloatSlider(min=0,max=1,step=.1,value=0, description='rcj',continuous_update=False) # cost for RP to generate fake job response\n",
    "matchPrice = 1\n",
    "mediatorPrice = 1\n",
    "\n",
    "def RPNDU(M_n,M_PR,M_NDPR, p1,price,p=1, q=1, roi=0, I=0):\n",
    "    p2 = 1-p1\n",
    "    deposit = price * M_PR * M_n\n",
    "    \n",
    "    execCost = - (price*(1-roi) - deposit*I)\n",
    " \n",
    "    noVerifypayout = (1-p)*price #compute answer 1 (p1) correctly (q) receive reward (price)\n",
    "    \n",
    "    P1payout = p*p1*price #compute answer 1 (p1) correctly (q) receive reward (price)\n",
    "    \n",
    "    P2payout = p*p2*(1-p1**M_n)*price #compute answer 2 (p2) correctly get sent to mediation, who finds nondeterminism (1-p1^n)\n",
    "\n",
    "    notP1cost = - p*(p2)*(p1**M_n)*deposit # compute answer 2 correctly or compute incorrectly (p2+1-q)  get sent to mediation, who doesn't find nondeterminsm (p1^n) and get fined (f)\n",
    "    \n",
    "#     failComp =   p*(1)*(1-p1**M_n)*damages# compute incorrectly (1-q) get sent to mediation, finds nondeterminism (1-p1^n) and bad RP? Pay RP for ND? Not sure its bad it could be totally random.\n",
    "    \n",
    "    RCnonDet = execCost + noVerifypayout + P1payout + P2payout + notP1cost\n",
    "    return RCnonDet\n",
    "\n"
   ]
  },
  {
   "cell_type": "markdown",
   "metadata": {},
   "source": [
    "#### Fraudulent model\n",
    "The RP can decide to not execute the job correctly, and rather than paying the execution cost pay some lesser cost $Cj$. If RP does not compute the job it can receive $price$ if the JC does not verify, or chooses not to request mediation. It can receive $damages$ if the JC requests mediation and the Mediator finds non-determinism. "
   ]
  },
  {
   "cell_type": "code",
   "execution_count": 6,
   "metadata": {},
   "outputs": [],
   "source": [
    "# Resource Provider nondeterministic utility strategy D (decieving?), basically cheating\n",
    "def RPNDUD(M_n,M_PR,M_NDPR,p1,price,p=1,rcj=0,q=1, roi=0, I=0):\n",
    "    p2 = 1-p1\n",
    "    deposit = price * M_PR * M_n\n",
    "    \n",
    "    execCost = - q*price*(1-roi) + deposit*I\n",
    "\n",
    "    #Cj is cost of execution for fraudulant job, picking a random number or \"close\" value\n",
    "    fraudCost = - (1-q)*rcj + deposit*I\n",
    "    \n",
    "    noVerifypayout = (1-p)*price #compute answer 1 (p1) correctly (q) receive reward (price)\n",
    "    \n",
    "    P1payout = p*q*p1*price #compute answer 1 (p1) correctly (q) receive reward (price)\n",
    "    \n",
    "    P2payout = p*q*p2*(1-p1**M_n)*price #compute answer 2 (p2) correctly (q) get sent to mediation, who finds nondeterminism (1-p1^n) and recieve reward (r) and nonDet bonus (f2-f)*k kickback=k\n",
    "\n",
    "    P2cost = - p*q*p2*(p1**M_n)*deposit # compute answer 2 correctly (p2) get sent to mediation, who doesn't find nondeterminsm (p1^n) and get fined (f)\n",
    "    \n",
    "    fraud1C =   p*(1-q)*(1-p1**M_n)*price# compute incorrectly (1-q) get sent to mediation, finds nondeterminism (1-p1^n) get compensation.\n",
    "    fraud1L = - p*(1-q)*(p1**M_n)*deposit #compute incorrectly (1-q) get sent to mediation, who doesn't find nondeterminsm (p1^n) and get fined (f)\n",
    "    fraudPayout1 = fraud1C + fraud1L\n",
    "    \n",
    "    fraudPayout2 = p*(1-q)*price # JC doesn't want to risk getting caught, just pay RP. \n",
    "    \n",
    "    \n",
    "    RCnonDet = execCost + noVerifypayout + P1payout + P2payout + P2cost + fraudPayout1\n",
    "    return RCnonDet"
   ]
  },
  {
   "cell_type": "code",
   "execution_count": 7,
   "metadata": {},
   "outputs": [],
   "source": [
    "def plot(M_n,M_PR,M_NDPR,price,p=1,jcj=0, q=1,roi=1,Insurance=0,rcj=0):   \n",
    "    plt.figure(2,figsize=(10,5))\n",
    "    \n",
    "    plt.subplot(1,1,1)\n",
    "    plt.grid(visible=True)\n",
    "    x,step = np.linspace(0,1,51,retstep=True)\n",
    "    print(\"step size: %s\" %step)\n",
    "    yJND = list(map(lambda p1: JCNDU(M_n,M_PR,M_NDPR, p1,price,p=p,jcj=jcj, q=q),x))\n",
    "    yRND = list(map(lambda p1: RPNDU(M_n,M_PR,M_NDPR, p1,price,p=p, q=q,roi=roi,I=Insurance),x))\n",
    "    yRNDD = list(map(lambda p1: RPNDUD(M_n,M_PR,M_NDPR,p1,price,p=p,rcj=rcj,q=q,roi=roi,I=Insurance),x))\n",
    "    plt.plot(x,yJND, label=\"JUND\")\n",
    "    plt.plot(x,yRND, label=\"RUND\")\n",
    "    plt.plot(x,yRNDD, label=\"RUNDD\")\n",
    "    plt.xlabel('P(a1)')\n",
    "    plt.ylabel('Util') \n",
    "    \n",
    "    plt.legend()\n",
    "    plt.show\n",
    "    \n",
    "    print(\"n: %s\" %M_n)\n",
    "    print(\"Price: %s\" %price)\n",
    "    deposit = price * M_PR * M_n\n",
    "    print(\"deposit: %s\" %deposit)\n",
    "    damages = price + RPgasPrice\n",
    "    \n",
    "    maxJND = max(yJND)\n",
    "    p1Max = x[yJND.index(maxJND)]\n",
    "    p2 = 1 - p1Max\n",
    "    print(\"P(a1) for JCmax/RPmin util: %s\" %p1Max)\n",
    "    print(\"\")\n",
    "    \n",
    "    print(\"Resource Provider\")\n",
    "    execCost = price*(1-roi)\n",
    "    requstedPrice = execCost + deposit*Insurance   \n",
    "    print(\"requstedPrice: %s\" %requstedPrice)   \n",
    "    print(\"price > requstedPrice, Matchable? : %s\" %(price>requstedPrice))\n",
    "    \n",
    "    print(\"\")\n",
    "    P1payout = p*p1Max*price\n",
    "    P2payout = p*p2*(1-p1Max**M_n)*damages\n",
    "    TPayout = P1payout+P2payout\n",
    "    RPcost = price*(1-roi) \n",
    "    NDI = deposit*Insurance\n",
    "    NDloss = p*(p2)*(p1Max**M_n)*deposit\n",
    "    Tcost = RPcost + NDloss - NDI\n",
    "    I = p*(p2)*(p1Max**M_n)\n",
    "    print(\"P1payout: %s\" %P1payout)\n",
    "    print(\"P2payout: %s\" %P2payout)\n",
    "    print(\"Total Payout: %s\" %TPayout)\n",
    "    print(\"\")\n",
    "    print(\"RPcost: -%s\" %RPcost)\n",
    "    print(\"RP NDloss: -%s\" %NDloss)\n",
    "    print(\"RP ND insurance: %s\" %NDI)\n",
    "    print(\"RP total expense: %s\" %(-Tcost))\n",
    "    print(\"min RP utility = %s\" %(TPayout-Tcost))\n",
    "    print(\"\")\n",
    "    print(\"min ROI for positive income: %s\" %((price+NDloss-P1payout-P2payout)/price))\n",
    "    print(\"Min insurance to cover ND losses: %s\" %I)\n",
    "    print(\"RP is losing: %s\" %(min(yRND)<0))\n",
    "    \n",
    "    \n",
    "    print(\"\")\n",
    "    print(\"\")\n",
    "    \n",
    "    \n",
    "    print(\"max ND JC utility: %s\" %maxJND)    \n",
    "   "
   ]
  },
  {
   "cell_type": "code",
   "execution_count": 8,
   "metadata": {},
   "outputs": [
    {
     "data": {
      "application/vnd.jupyter.widget-view+json": {
       "model_id": "977914e2c75c4db8bf6414077d265d3b",
       "version_major": 2,
       "version_minor": 0
      },
      "text/plain": [
       "Output()"
      ]
     },
     "metadata": {},
     "output_type": "display_data"
    },
    {
     "data": {
      "application/vnd.jupyter.widget-view+json": {
       "model_id": "703f7b42bd02419dbf7c9a696395c09f",
       "version_major": 2,
       "version_minor": 0
      },
      "text/plain": [
       "HBox(children=(IntSlider(value=4, continuous_update=False, max=10), FloatSlider(value=1.0, continuous_update=F…"
      ]
     },
     "metadata": {},
     "output_type": "display_data"
    },
    {
     "data": {
      "application/vnd.jupyter.widget-view+json": {
       "model_id": "5cdc7e60aa6349edb7983b0ff1b02d4b",
       "version_major": 2,
       "version_minor": 0
      },
      "text/plain": [
       "HBox(children=(IntSlider(value=1, continuous_update=False, max=10000), FloatSlider(value=1.0, continuous_updat…"
      ]
     },
     "metadata": {},
     "output_type": "display_data"
    },
    {
     "data": {
      "application/vnd.jupyter.widget-view+json": {
       "model_id": "2068572cb35e41faa4be8898b6c1e37f",
       "version_major": 2,
       "version_minor": 0
      },
      "text/plain": [
       "HBox(children=(FloatSlider(value=0.0, continuous_update=False, description='rcj', max=1.0), FloatSlider(value=…"
      ]
     },
     "metadata": {},
     "output_type": "display_data"
    }
   ],
   "source": [
    "# ui = widgets.HBox([wn,wPR,wNDPR,wPrice,wp,wcj,wq,wroi,winsurance])\n",
    "ui1 = widgets.HBox([wn,wPR,wNDPR])\n",
    "ui2 = widgets.HBox([wPrice,wp,wjcj])\n",
    "ui3 = widgets.HBox([wrcj,wq,wroi,winsurance])\n",
    "# interactive_plot = widgets.interactive(plot, M_n=wn,M_PR=wPR,M_NDPR=wNDPR,price=wPrice,p=wp,cj=wcj, q=wq,roi=wroi,Insurance=winsurance);\n",
    "interactive_plot = widgets.interactive_output(plot,{'M_n':wn,'M_PR':wPR,'M_NDPR':wNDPR,'price':wPrice,'p':wp,'jcj':wjcj, 'q':wq,'roi':wroi,'Insurance':winsurance,'rcj':wrcj });\n",
    "# output = interactive_plot.children[-1]\n",
    "# output.layout.height = '900px'\n",
    "display(interactive_plot,ui1,ui2,ui3)"
   ]
  },
  {
   "cell_type": "markdown",
   "metadata": {},
   "source": [
    "# Benefit Analysis\n",
    "\n",
    "This section analyzes when the JC is sending real jobs that provide it value when they are successfully completed. The JC is attempting to increase its utility by adding a non-deterministic piece to the jobs in an effort to have some jobs completed for free by accusing the RP of failing to execute them correctly. This could be done by changing the input so that some parts of the code are normally dorment and only activated when a certain data input is provided."
   ]
  },
  {
   "cell_type": "markdown",
   "metadata": {},
   "source": [
    "### Protocol Following model\n",
    "If the JC follows the protocol its utility is the benefit, or value, it receives from the Job execution minus the amount it pays to the RP. This is assuming that the RP is playing by the rules of the game, otherwise the JC could have better utility since **price** will be refunded and **benefit** will still be recieved since the mediator will return the result. \n",
    "\n",
    "This model is further simplified by the assumption that a Job can be checked for free, and that the JC can check the result of every job. This is a reasonable simplification since there are jobs whose verification cost is much less than the cost of execution, and we are interested in identifying the worst case scenario we need to protect against. "
   ]
  },
  {
   "cell_type": "code",
   "execution_count": 9,
   "metadata": {},
   "outputs": [],
   "source": [
    "def protocolU(benefit, price):\n",
    "    return benefit - price"
   ]
  },
  {
   "cell_type": "markdown",
   "metadata": {},
   "source": [
    "### Non-Deterministic Model\n",
    "The key element of this model is the amount of utility the JC can get for **free** from the system. \n",
    "The free utility is the probability that the RP got result 2 multiplied by the probability that the mediator got result 1 $n$ times multiplied by the job benefit, minus the probability that the RP got result 2 multiplied by the probability that the mediator did not get result 1 for any of $n$ executions multiplied by the deposit, whose value is determined by the price set by the JC multiplied by the non-deterministic penalty rate set by the Mediator. \n",
    "\n",
    "This model is the best the JC can hope for. The RP could fail to complete jobs, in which case the JC loses the benefit, and either pays $price$ or ND deposit."
   ]
  },
  {
   "cell_type": "code",
   "execution_count": 10,
   "metadata": {},
   "outputs": [],
   "source": [
    "def NDU(M_n,M_NDPR, p1,price,benefit):\n",
    "    p2 = 1-p1\n",
    "    NDdeposit = price * M_NDPR\n",
    "    paid = p1*(benefit-price)\n",
    "#     free = p2*((p1**M_n)*benefit - (1-p1**M_n)*NDdeposit)\n",
    "    free = p2*((p1**M_n)*(benefit+price) - (1-p1**M_n)*NDdeposit)\n",
    "    total = paid + free\n",
    "    return total\n",
    "    "
   ]
  },
  {
   "cell_type": "markdown",
   "metadata": {},
   "source": [
    "### Evaluation"
   ]
  },
  {
   "cell_type": "code",
   "execution_count": 11,
   "metadata": {},
   "outputs": [],
   "source": [
    "def plot2(M_n,M_NDPR,  price,benefit):\n",
    "    x,step = np.linspace(0,1,51,retstep=True)\n",
    "    yPU = list(map(lambda p1: protocolU(benefit,price),x))\n",
    "    yNDU = list(map(lambda p1: NDU(M_n,M_NDPR, p1,price,benefit),x))\n",
    "    \n",
    "    \n",
    "    plt.figure(3,figsize=(10,5))    \n",
    "    plt.subplot(1,1,1)\n",
    "    plt.grid(visible=True)\n",
    "    plt.plot(x,yPU, label=\"PU\")\n",
    "    plt.plot(x,yNDU, label=\"NDU\")\n",
    "    plt.xlabel('P(a1)')\n",
    "    plt.ylabel('Util') \n",
    "    \n",
    "    plt.legend()\n",
    "    plt.show\n",
    "    \n",
    "    print(\"Protocol util: %s\" %yPU[0])\n",
    "    print(\"max ND util: %s\" %max(yNDU))\n",
    "    print(\"ND improvement over Protocol: %s\" %(max(yNDU)-yPU[0]))    \n",
    "    print(\"%% improvement : %s %%\" %(100*abs((max(yNDU)-yPU[0])/yPU[0])))\n",
    "    print(\"optimal P(p1): %s\" %x[yNDU.index(max(yNDU))])\n",
    "    \n",
    "    "
   ]
  },
  {
   "cell_type": "code",
   "execution_count": 12,
   "metadata": {},
   "outputs": [
    {
     "data": {
      "application/vnd.jupyter.widget-view+json": {
       "model_id": "9666c36a087e402daefd8d41c013f401",
       "version_major": 2,
       "version_minor": 0
      },
      "text/plain": [
       "interactive(children=(IntSlider(value=4, continuous_update=False, description='M_n', max=10), FloatSlider(valu…"
      ]
     },
     "metadata": {},
     "output_type": "display_data"
    }
   ],
   "source": [
    "interactive_plot2 = widgets.interactive(plot2, M_n=wn,M_NDPR=wNDPR, price=wPrice,benefit=wBenefit);\n",
    "output = interactive_plot2.children[-1]\n",
    "output.layout.height = '600px'\n",
    "interactive_plot2\n",
    "\n",
    "#M_n = 4\n",
    "#NDPR = 24? if price is included in free job."
   ]
  },
  {
   "cell_type": "markdown",
   "metadata": {},
   "source": [
    "### Bounding the problem\n",
    "$free = (1-P)P^nb - (1-P)(1-P^n)Rc$\n",
    "\n",
    "**Derivative**\n",
    "\n",
    "$\\frac{d}{dP}(free) = \\frac{d}{dP} (1-P)P^nb - (1-P)(1-P^n)Rc$\n",
    "\n",
    "$0 = \\frac{d}{dP} (P^nb - P^{n+1} - Rc + P^nRc + PRc - P^{n+1}Rc$)\n",
    "\n",
    "$0 = nP^{n-1}b - (n+1)P^{n}b - 0 + nP^{n-1}Rc + Rc - (n+1)P^{n}Rc$\n",
    "\n",
    "**Collect Terms**\n",
    "\n",
    "$ nP^{n-1}b + nP^{n-1}Rc + Rc =  (n+1)P^{n}b + (n+1)P^{n}Rc$\n",
    "\n",
    "$ nP^{n-1}(b+Rc) + Rc =  (n+1)P^{n}(b+Rc)$\n",
    "\n",
    "$ nP^{n-1} + \\frac{Rc}{b+Rc} =  (n+1)P^{n}$\n",
    "\n",
    "\n",
    "$\\frac{Rc}{b+Rc} + nP^{n-1} - (n+1)P^n = 0 $\n",
    "\n",
    "**Let penalty rate R=0**\n",
    "\n",
    "benefit and cost become irrelevant and we are left with:\n",
    "\n",
    "$nP^{n-1}  = (n+1)P^n $\n",
    "\n",
    "**Simplify**\n",
    "\n",
    "$\\frac{n}{n+1} = P$\n",
    "\n",
    "So the maximum the JC can make with no penalty rate will be when $P = \\frac{n}{n+1}$\n",
    "\n",
    "$P$ is the liklihood of getting answer 1 and $n$ is the number of times the mediator verifies, so we can force the JC to cheat less and limit its additional utility. \n",
    "\n",
    "For example if $n=4$ then $P=.8$, so for optimal gains JC will make it so that a1 appears 80% of the time, anything else would give it less reward, so if we assume the worst case and handle it, anything less severe will be handled as well. \n",
    "\n",
    "**If R is not 0**\n",
    "\n",
    "any change to $b$ or $c$ will never make lower probability of a1 more optimal. \n",
    "\n",
    "**For $b<c$ and R=1**\n",
    "\n",
    "The normal protocol loses, but the ND protocol loses somewhat less until $b=.9c$ approximately, as which point ND can win slightly. \n",
    "\n",
    "It can win .694% utility units when $b=90$ and $c=100$.\n",
    "\n",
    "**For $b=c$ and R=1**\n",
    "\n",
    "Optimal is when probability of a1 is 90%. \n",
    "Normal protocal loses, and ND protocol wins 9.683% of benfit(or price since they are equal) as utility. \n",
    "\n",
    "**For $b>c$ and R=1**\n",
    "\n",
    "As $b$ grows the advantage over the protocol decreases compared to $b=c$\n",
    "\n",
    "When $b=4.87c$ the added benefit is less than 1%. \n",
    "\n",
    "**Things get worse for JC if R increases.**\n",
    "The worst case for the system is $b=c$ as the JC can get the most advantage. This can be mitigated by assuming JC is cheating and taking a 9.683% tax on the price it includes, or increasing R to, apparently, 24, after which point ND can't win and is only better than protocol if $b=.762c$ or less (meaning its losing badly since it needed 90% to win in the first place).\n",
    "\n",
    "\n"
   ]
  },
  {
   "cell_type": "markdown",
   "metadata": {},
   "source": [
    "Taha's email : \n",
    "\n",
    "* Docker Layers\n",
    "    * RP will have a function call resourceProviderAddDockerLayer which he uses to specify his supported 1st-Layers.\n",
    "    * JC will specify the first layer when he posts a job offer.\n",
    "    * A job offer and a resource offer are matchable if the job offer's first docker layer is in the RP's first layers list.\n",
    "* Penalty\n",
    "        The security deposit of the cheater will stay in the platform instead of being rewarded to the mediation winner.\n",
    "        RP can accept a mediation verdict or can ask for extra rounds of mediation. In each round, he will pay the mediation value. (Is this money as the same as last run's cost?)\n",
    "        Winner of the mediation verdict will receive Mediator's last instructionCount and bandwidthUsage times his prices for these two units as a reward. If the winner is the RP, he will receive the cost of all rounds of mediation.\n",
    "    Solver\n",
    "        RP and JC specify a solver cost when they post an offer. It will be compensated for the first Solver which match the offer. (This will decrease the efficiency of the matches unless we have an offering period and matching period like Transax. Then, the contract can choose the best matches and only reward those solvers who posted the best solution.)\n",
    "    Mediator\n",
    "        Mediators specify a price for availability. They both have to pay for this value because they trusted it.\n",
    "        Are we going to have Mediators accountable?"
   ]
  }
 ],
 "metadata": {
  "kernelspec": {
   "display_name": "Python 3",
   "language": "python",
   "name": "python3"
  },
  "language_info": {
   "codemirror_mode": {
    "name": "ipython",
    "version": 3
   },
   "file_extension": ".py",
   "mimetype": "text/x-python",
   "name": "python",
   "nbconvert_exporter": "python",
   "pygments_lexer": "ipython3",
   "version": "3.6.6"
  }
 },
 "nbformat": 4,
 "nbformat_minor": 2
}
