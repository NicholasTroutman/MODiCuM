{
 "cells": [
  {
   "cell_type": "code",
   "execution_count": 1,
   "metadata": {},
   "outputs": [],
   "source": [
    "from __future__ import print_function\n",
    "import ipywidgets as widgets \n",
    "import matplotlib.pyplot as plt\n",
    "import numpy as np"
   ]
  },
  {
   "cell_type": "code",
   "execution_count": 2,
   "metadata": {},
   "outputs": [],
   "source": [
    "p = 1 #probability of checking result\n",
    "cj = 0 #cost of verifying result\n",
    "p1 = .9 #probability of getting answer 1 \n",
    "p2 = 1-p1 #probability of getting answer 2\n",
    "b1 = 0 #benefit of getting answer 1\n",
    "b2 = 3 #benefit of getting answer 2\n",
    "r = 1.5 #payout to RP for returning result\n",
    "q = 1 #probability RP runs job correctly\n",
    "f = r*5 # security deposit\n",
    "f2 = r*40\n",
    "n = 6 # number of mediator runs\n"
   ]
  },
  {
   "cell_type": "code",
   "execution_count": 3,
   "metadata": {},
   "outputs": [],
   "source": [
    "p = 0.1 #probability of checking result\n",
    "cj = 1 #cost of verifying result\n",
    "p1 = .9 #probability of getting answer 1 \n",
    "p2 = 1-p1 #probability of getting answer 2\n",
    "b1 = 2 #benefit of getting answer 1\n",
    "b2 = 2 #benefit of getting answer 2\n",
    "r = 1.5 #payout to RP for returning result\n",
    "q = .999 #probability RP runs job correctly\n",
    "f = r*5 # security deposit\n",
    "f2 = r*200\n",
    "n = 6 # number of mediator runs"
   ]
  },
  {
   "cell_type": "code",
   "execution_count": 4,
   "metadata": {},
   "outputs": [],
   "source": [
    "def JCU(P,n,f2):\n",
    "    p1 = P\n",
    "    p2 = 1-P\n",
    "    verifyCost = -p*cj \n",
    "    A1payout = q*p1*(b1-r)\n",
    "    A2payout = q*p2*(b2 - p*(1-p1**n)*(r+f2))\n",
    "    JCnonDet = verifyCost + A1payout + A2payout\n",
    "    return JCnonDet\n",
    "    "
   ]
  },
  {
   "cell_type": "code",
   "execution_count": 12,
   "metadata": {},
   "outputs": [],
   "source": [
    "def plotJCU(n,f2):   \n",
    "    plt.figure(2)\n",
    "    x = np.linspace(0,1,11)\n",
    "    y = list(map(lambda P: JCU(P,n,f2),x))\n",
    "    plt.plot(x,y)\n",
    "    plt.xlabel('P(a1)')\n",
    "    plt.ylabel('JCUtil') \n",
    "    plt.grid(visible=True)\n",
    "    plt.show"
   ]
  },
  {
   "cell_type": "code",
   "execution_count": 13,
   "metadata": {},
   "outputs": [
    {
     "data": {
      "application/vnd.jupyter.widget-view+json": {
       "model_id": "5d80a42febf54e2eb5ead658e7ea0a6c",
       "version_major": 2,
       "version_minor": 0
      },
      "text/plain": [
       "interactive(children=(IntSlider(value=6, description='n', max=10), IntSlider(value=200, description='f2', max=…"
      ]
     },
     "metadata": {},
     "output_type": "display_data"
    }
   ],
   "source": [
    "interactive_plot = widgets.interactive(plotJCU, n=widgets.IntSlider(min=0,max=10,step=1,value=6), f2=widgets.IntSlider(min=0,max=200,step=1,value=200));\n",
    "output = interactive_plot.children[-1]\n",
    "output.layout.height = '400px'\n",
    "interactive_plot"
   ]
  },
  {
   "cell_type": "code",
   "execution_count": null,
   "metadata": {},
   "outputs": [],
   "source": []
  }
 ],
 "metadata": {
  "kernelspec": {
   "display_name": "Python 3",
   "language": "python",
   "name": "python3"
  },
  "language_info": {
   "codemirror_mode": {
    "name": "ipython",
    "version": 3
   },
   "file_extension": ".py",
   "mimetype": "text/x-python",
   "name": "python",
   "nbconvert_exporter": "python",
   "pygments_lexer": "ipython3",
   "version": "3.6.6"
  }
 },
 "nbformat": 4,
 "nbformat_minor": 2
}
